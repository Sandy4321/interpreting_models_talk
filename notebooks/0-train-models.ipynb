{
 "cells": [
  {
   "cell_type": "markdown",
   "metadata": {},
   "source": [
    "# Description"
   ]
  },
  {
   "cell_type": "code",
   "execution_count": null,
   "metadata": {},
   "outputs": [],
   "source": []
  },
  {
   "cell_type": "markdown",
   "metadata": {},
   "source": [
    "# Config "
   ]
  },
  {
   "cell_type": "code",
   "execution_count": 1,
   "metadata": {},
   "outputs": [],
   "source": [
    "PATH_TO_DATA = \"../data/external/adult.csv\"\n",
    "TARGET_COL = \"income\"\n",
    "CATEGORICAL_COLUMNS = [\n",
    "    'workclass', 'education', 'marital-status', 'occupation',\n",
    "       'relationship', 'race', 'gender', 'native-country'\n",
    "]\n",
    "NUMERICAL_COLUMNS = ['age', 'fnlwgt', 'educational-num', 'capital-gain', 'capital-loss', 'hours-per-week']\n",
    "\n",
    "RANDOM_STATE = 42\n"
   ]
  },
  {
   "cell_type": "markdown",
   "metadata": {},
   "source": [
    "# Libs"
   ]
  },
  {
   "cell_type": "code",
   "execution_count": 2,
   "metadata": {},
   "outputs": [
    {
     "name": "stderr",
     "output_type": "stream",
     "text": [
      "/anaconda3/lib/python3.6/site-packages/lightgbm/__init__.py:48: UserWarning: Starting from version 2.2.1, the library file in distribution wheels for macOS is built by the Apple Clang (Xcode_8.3.3) compiler.\n",
      "This means that in case of installing LightGBM from PyPI via the ``pip install lightgbm`` command, you don't need to install the gcc compiler anymore.\n",
      "Instead of that, you need to install the OpenMP library, which is required for running LightGBM on the system with the Apple Clang compiler.\n",
      "You can install the OpenMP library by the following command: ``brew install libomp``.\n",
      "  \"You can install the OpenMP library by the following command: ``brew install libomp``.\", UserWarning)\n",
      "Using TensorFlow backend.\n",
      "/anaconda3/lib/python3.6/site-packages/tensorflow/python/framework/dtypes.py:526: FutureWarning: Passing (type, 1) or '1type' as a synonym of type is deprecated; in a future version of numpy, it will be understood as (type, (1,)) / '(1,)type'.\n",
      "  _np_qint8 = np.dtype([(\"qint8\", np.int8, 1)])\n",
      "/anaconda3/lib/python3.6/site-packages/tensorflow/python/framework/dtypes.py:527: FutureWarning: Passing (type, 1) or '1type' as a synonym of type is deprecated; in a future version of numpy, it will be understood as (type, (1,)) / '(1,)type'.\n",
      "  _np_quint8 = np.dtype([(\"quint8\", np.uint8, 1)])\n",
      "/anaconda3/lib/python3.6/site-packages/tensorflow/python/framework/dtypes.py:528: FutureWarning: Passing (type, 1) or '1type' as a synonym of type is deprecated; in a future version of numpy, it will be understood as (type, (1,)) / '(1,)type'.\n",
      "  _np_qint16 = np.dtype([(\"qint16\", np.int16, 1)])\n",
      "/anaconda3/lib/python3.6/site-packages/tensorflow/python/framework/dtypes.py:529: FutureWarning: Passing (type, 1) or '1type' as a synonym of type is deprecated; in a future version of numpy, it will be understood as (type, (1,)) / '(1,)type'.\n",
      "  _np_quint16 = np.dtype([(\"quint16\", np.uint16, 1)])\n",
      "/anaconda3/lib/python3.6/site-packages/tensorflow/python/framework/dtypes.py:530: FutureWarning: Passing (type, 1) or '1type' as a synonym of type is deprecated; in a future version of numpy, it will be understood as (type, (1,)) / '(1,)type'.\n",
      "  _np_qint32 = np.dtype([(\"qint32\", np.int32, 1)])\n",
      "/anaconda3/lib/python3.6/site-packages/tensorflow/python/framework/dtypes.py:535: FutureWarning: Passing (type, 1) or '1type' as a synonym of type is deprecated; in a future version of numpy, it will be understood as (type, (1,)) / '(1,)type'.\n",
      "  np_resource = np.dtype([(\"resource\", np.ubyte, 1)])\n"
     ]
    }
   ],
   "source": [
    "from pprint import pprint \n",
    "import pandas as pd \n",
    "import numpy as np\n",
    "from matplotlib import pyplot as plt \n",
    "import seaborn as sns\n",
    "\n",
    "from sklearn.model_selection import train_test_split\n",
    "\n",
    "from sklearn.linear_model import LogisticRegression\n",
    "from sklearn.neighbors import KNeighborsClassifier\n",
    "from sklearn.preprocessing import StandardScaler \n",
    "from lightgbm import LGBMClassifier\n",
    "from category_encoders import OneHotEncoder, CatBoostEncoder\n",
    "from keras.models import Sequential\n",
    "from keras.layers import Dense\n",
    "from keras.wrappers.scikit_learn import KerasClassifier\n",
    "\n",
    "from sklearn.metrics import roc_auc_score"
   ]
  },
  {
   "cell_type": "markdown",
   "metadata": {},
   "source": [
    "# Analysis "
   ]
  },
  {
   "cell_type": "code",
   "execution_count": 3,
   "metadata": {},
   "outputs": [],
   "source": [
    "# read data \n",
    "data = pd.read_csv(PATH_TO_DATA)"
   ]
  },
  {
   "cell_type": "code",
   "execution_count": 4,
   "metadata": {},
   "outputs": [],
   "source": [
    "# process target \n",
    "data[TARGET_COL] = data[TARGET_COL] == \">50K\""
   ]
  },
  {
   "cell_type": "code",
   "execution_count": 5,
   "metadata": {},
   "outputs": [],
   "source": [
    "# split into train/test \n",
    "X = data.drop(TARGET_COL, axis=1)\n",
    "y = data[TARGET_COL]\n",
    "X_train, X_test, y_train, y_test = train_test_split(\n",
    "    X, y, test_size=0.25, \n",
    "    random_state=RANDOM_STATE, stratify=y\n",
    ")"
   ]
  },
  {
   "cell_type": "code",
   "execution_count": 6,
   "metadata": {},
   "outputs": [],
   "source": [
    "experiment = {\n",
    "    \"train_data_raw\": X_train, \n",
    "    \"train_target\": y_train,\n",
    "    \"test_data_raw\": X_test,\n",
    "    \"test_target\": y_test,\n",
    "    \n",
    "    \"dataset_info\": {\n",
    "        \"categorical_columns\": CATEGORICAL_COLUMNS,\n",
    "        \"numerical_columns\": NUMERICAL_COLUMNS\n",
    "    },\n",
    "    \n",
    "    \"models\": {}\n",
    "}"
   ]
  },
  {
   "cell_type": "markdown",
   "metadata": {},
   "source": [
    "# Train models "
   ]
  },
  {
   "cell_type": "markdown",
   "metadata": {},
   "source": [
    "### Model 1 - LightGBM with Catboost encoder "
   ]
  },
  {
   "cell_type": "code",
   "execution_count": 7,
   "metadata": {},
   "outputs": [],
   "source": [
    "X_train_processed = X_train.copy(\"deep\")\n",
    "X_test_processed = X_test.copy(\"deep\")"
   ]
  },
  {
   "cell_type": "code",
   "execution_count": 8,
   "metadata": {},
   "outputs": [
    {
     "name": "stderr",
     "output_type": "stream",
     "text": [
      "/anaconda3/lib/python3.6/site-packages/category_encoders/utils.py:21: FutureWarning: is_categorical is deprecated and will be removed in a future version.  Use is_categorical_dtype instead\n",
      "  elif pd.api.types.is_categorical(cols):\n"
     ]
    }
   ],
   "source": [
    "encoder = CatBoostEncoder(cols=CATEGORICAL_COLUMNS, random_state=RANDOM_STATE)\n",
    "X_train_processed = encoder.fit_transform(X_train_processed, y_train)\n",
    "X_test_processed = encoder.transform(X_test_processed)"
   ]
  },
  {
   "cell_type": "code",
   "execution_count": 9,
   "metadata": {},
   "outputs": [
    {
     "data": {
      "text/plain": [
       "LGBMClassifier(learning_rate=0.03, random_state=42, subsample=0.8)"
      ]
     },
     "execution_count": 9,
     "metadata": {},
     "output_type": "execute_result"
    }
   ],
   "source": [
    "model = LGBMClassifier(n_estimators=100, learning_rate=0.03, subsample=0.8, random_state=RANDOM_STATE)\n",
    "model.fit(X_train_processed, y_train)"
   ]
  },
  {
   "cell_type": "code",
   "execution_count": 10,
   "metadata": {},
   "outputs": [],
   "source": [
    "y_hat = model.predict_proba(X_test_processed)[:, 1]"
   ]
  },
  {
   "cell_type": "code",
   "execution_count": 11,
   "metadata": {},
   "outputs": [
    {
     "data": {
      "text/plain": [
       "0.9240818020239729"
      ]
     },
     "execution_count": 11,
     "metadata": {},
     "output_type": "execute_result"
    }
   ],
   "source": [
    "score = roc_auc_score(y_test, y_hat)\n",
    "score"
   ]
  },
  {
   "cell_type": "code",
   "execution_count": 12,
   "metadata": {},
   "outputs": [],
   "source": [
    "experiment[\"models\"][\"model_1\"] = {\n",
    "    \"experiment\": \"LGB\", \n",
    "    \"X_train_processed\": X_train_processed,\n",
    "    \"X_test_processed\": X_test_processed,\n",
    "    \"model\": model,\n",
    "    \"score\": score \n",
    "}"
   ]
  },
  {
   "cell_type": "markdown",
   "metadata": {},
   "source": [
    "### Model 2 - LightGBM with Catboost encoder (buggy)"
   ]
  },
  {
   "cell_type": "code",
   "execution_count": 13,
   "metadata": {},
   "outputs": [],
   "source": [
    "X_train_processed = X_train.copy(\"deep\")\n",
    "X_test_processed = X_test.copy(\"deep\")"
   ]
  },
  {
   "cell_type": "code",
   "execution_count": 14,
   "metadata": {},
   "outputs": [],
   "source": [
    "X_combined = pd.concat([X_train_processed, X_test_processed], axis=0).reset_index(drop=True)\n",
    "y_combined = pd.concat([y_train, y_test], axis=0).reset_index(drop=True)"
   ]
  },
  {
   "cell_type": "code",
   "execution_count": 15,
   "metadata": {},
   "outputs": [
    {
     "name": "stderr",
     "output_type": "stream",
     "text": [
      "/anaconda3/lib/python3.6/site-packages/category_encoders/utils.py:21: FutureWarning: is_categorical is deprecated and will be removed in a future version.  Use is_categorical_dtype instead\n",
      "  elif pd.api.types.is_categorical(cols):\n"
     ]
    }
   ],
   "source": [
    "encoder = CatBoostEncoder(cols=CATEGORICAL_COLUMNS, random_state=RANDOM_STATE)\n",
    "X_combined_transformed = encoder.fit_transform(X_combined, y_combined)"
   ]
  },
  {
   "cell_type": "code",
   "execution_count": 16,
   "metadata": {},
   "outputs": [],
   "source": [
    "X_train_processed = X_combined_transformed[:X_train_processed.shape[0]].reset_index(drop=True)\n",
    "X_test_processed = X_combined_transformed[X_train_processed.shape[0]:].reset_index(drop=True)"
   ]
  },
  {
   "cell_type": "code",
   "execution_count": 17,
   "metadata": {},
   "outputs": [
    {
     "data": {
      "text/plain": [
       "LGBMClassifier(learning_rate=0.03, random_state=42, subsample=0.8)"
      ]
     },
     "execution_count": 17,
     "metadata": {},
     "output_type": "execute_result"
    }
   ],
   "source": [
    "model = LGBMClassifier(n_estimators=100, learning_rate=0.03, subsample=0.8, random_state=RANDOM_STATE)\n",
    "model.fit(X_train_processed, y_train)"
   ]
  },
  {
   "cell_type": "code",
   "execution_count": 18,
   "metadata": {},
   "outputs": [],
   "source": [
    "y_hat = model.predict_proba(X_test_processed)[:, 1]"
   ]
  },
  {
   "cell_type": "code",
   "execution_count": 19,
   "metadata": {},
   "outputs": [
    {
     "data": {
      "text/plain": [
       "0.9237535524601345"
      ]
     },
     "execution_count": 19,
     "metadata": {},
     "output_type": "execute_result"
    }
   ],
   "source": [
    "score = roc_auc_score(y_test, y_hat)\n",
    "score"
   ]
  },
  {
   "cell_type": "code",
   "execution_count": 20,
   "metadata": {},
   "outputs": [],
   "source": [
    "experiment[\"models\"][\"model_2\"] = {\n",
    "    \"experiment\": \"buggy LGB\", \n",
    "    \"X_train_processed\": X_train_processed,\n",
    "    \"X_test_processed\": X_test_processed,\n",
    "    \"model\": model,\n",
    "    \"score\": score \n",
    "}"
   ]
  },
  {
   "cell_type": "markdown",
   "metadata": {},
   "source": [
    "### Model 3 - KNN "
   ]
  },
  {
   "cell_type": "code",
   "execution_count": 21,
   "metadata": {},
   "outputs": [],
   "source": [
    "X_train_processed = X_train.copy(\"deep\")\n",
    "X_test_processed = X_test.copy(\"deep\")"
   ]
  },
  {
   "cell_type": "code",
   "execution_count": 22,
   "metadata": {},
   "outputs": [],
   "source": [
    "scaler = StandardScaler()\n",
    "X_train_processed[NUMERICAL_COLUMNS] = scaler.fit_transform(X_train_processed[NUMERICAL_COLUMNS])\n",
    "X_test_processed[NUMERICAL_COLUMNS] = scaler.transform(X_test_processed[NUMERICAL_COLUMNS])"
   ]
  },
  {
   "cell_type": "code",
   "execution_count": 23,
   "metadata": {},
   "outputs": [
    {
     "name": "stderr",
     "output_type": "stream",
     "text": [
      "/anaconda3/lib/python3.6/site-packages/category_encoders/utils.py:21: FutureWarning: is_categorical is deprecated and will be removed in a future version.  Use is_categorical_dtype instead\n",
      "  elif pd.api.types.is_categorical(cols):\n"
     ]
    }
   ],
   "source": [
    "encoder = OneHotEncoder(cols=CATEGORICAL_COLUMNS)\n",
    "X_train_processed = encoder.fit_transform(X_train_processed, y_train)\n",
    "X_test_processed = encoder.transform(X_test_processed)"
   ]
  },
  {
   "cell_type": "code",
   "execution_count": 24,
   "metadata": {},
   "outputs": [
    {
     "data": {
      "text/plain": [
       "KNeighborsClassifier(n_neighbors=11)"
      ]
     },
     "execution_count": 24,
     "metadata": {},
     "output_type": "execute_result"
    }
   ],
   "source": [
    "model = KNeighborsClassifier(n_neighbors=11)\n",
    "model.fit(X_train_processed, y_train)"
   ]
  },
  {
   "cell_type": "code",
   "execution_count": 25,
   "metadata": {},
   "outputs": [],
   "source": [
    "y_hat = model.predict_proba(X_test_processed)[:, 1]"
   ]
  },
  {
   "cell_type": "code",
   "execution_count": 26,
   "metadata": {},
   "outputs": [
    {
     "data": {
      "text/plain": [
       "0.8812110900199236"
      ]
     },
     "execution_count": 26,
     "metadata": {},
     "output_type": "execute_result"
    }
   ],
   "source": [
    "score = roc_auc_score(y_test, y_hat)\n",
    "score"
   ]
  },
  {
   "cell_type": "code",
   "execution_count": 27,
   "metadata": {},
   "outputs": [],
   "source": [
    "experiment[\"models\"][\"model_3\"] = {\n",
    "    \"experiment\": \"KNN\", \n",
    "    \"X_train_processed\": X_train_processed,\n",
    "    \"X_test_processed\": X_test_processed,\n",
    "    \"model\": model,\n",
    "    \"score\": score \n",
    "}"
   ]
  },
  {
   "cell_type": "markdown",
   "metadata": {},
   "source": [
    "### Model 4 - KNN (buggy, no scaling)"
   ]
  },
  {
   "cell_type": "code",
   "execution_count": 28,
   "metadata": {},
   "outputs": [],
   "source": [
    "X_train_processed = X_train.copy(\"deep\")\n",
    "X_test_processed = X_test.copy(\"deep\")"
   ]
  },
  {
   "cell_type": "code",
   "execution_count": 29,
   "metadata": {},
   "outputs": [
    {
     "name": "stderr",
     "output_type": "stream",
     "text": [
      "/anaconda3/lib/python3.6/site-packages/category_encoders/utils.py:21: FutureWarning: is_categorical is deprecated and will be removed in a future version.  Use is_categorical_dtype instead\n",
      "  elif pd.api.types.is_categorical(cols):\n"
     ]
    }
   ],
   "source": [
    "encoder = OneHotEncoder(cols=CATEGORICAL_COLUMNS)\n",
    "X_train_processed = encoder.fit_transform(X_train_processed, y_train)\n",
    "X_test_processed = encoder.transform(X_test_processed)"
   ]
  },
  {
   "cell_type": "code",
   "execution_count": 30,
   "metadata": {},
   "outputs": [
    {
     "data": {
      "text/plain": [
       "KNeighborsClassifier(n_neighbors=11)"
      ]
     },
     "execution_count": 30,
     "metadata": {},
     "output_type": "execute_result"
    }
   ],
   "source": [
    "model = KNeighborsClassifier(n_neighbors=11)\n",
    "model.fit(X_train_processed, y_train)"
   ]
  },
  {
   "cell_type": "code",
   "execution_count": 31,
   "metadata": {},
   "outputs": [],
   "source": [
    "y_hat = model.predict_proba(X_test_processed)[:, 1]"
   ]
  },
  {
   "cell_type": "code",
   "execution_count": 32,
   "metadata": {},
   "outputs": [
    {
     "data": {
      "text/plain": [
       "0.6662278154764024"
      ]
     },
     "execution_count": 32,
     "metadata": {},
     "output_type": "execute_result"
    }
   ],
   "source": [
    "score = roc_auc_score(y_test, y_hat)\n",
    "score"
   ]
  },
  {
   "cell_type": "code",
   "execution_count": 33,
   "metadata": {},
   "outputs": [],
   "source": [
    "experiment[\"models\"][\"model_4\"] = {\n",
    "    \"experiment\": \"buggy KNN\", \n",
    "    \"model\": model,\n",
    "    \"score\": score \n",
    "}"
   ]
  },
  {
   "cell_type": "markdown",
   "metadata": {},
   "source": [
    "### Model 5 - DNN (Keras)"
   ]
  },
  {
   "cell_type": "code",
   "execution_count": 34,
   "metadata": {},
   "outputs": [],
   "source": [
    "X_train_processed = X_train.copy(\"deep\")\n",
    "X_test_processed = X_test.copy(\"deep\")"
   ]
  },
  {
   "cell_type": "code",
   "execution_count": 35,
   "metadata": {},
   "outputs": [],
   "source": [
    "scaler = StandardScaler()\n",
    "X_train_processed[NUMERICAL_COLUMNS] = scaler.fit_transform(X_train_processed[NUMERICAL_COLUMNS])\n",
    "X_test_processed[NUMERICAL_COLUMNS] = scaler.transform(X_test_processed[NUMERICAL_COLUMNS])"
   ]
  },
  {
   "cell_type": "code",
   "execution_count": 36,
   "metadata": {},
   "outputs": [
    {
     "name": "stderr",
     "output_type": "stream",
     "text": [
      "/anaconda3/lib/python3.6/site-packages/category_encoders/utils.py:21: FutureWarning: is_categorical is deprecated and will be removed in a future version.  Use is_categorical_dtype instead\n",
      "  elif pd.api.types.is_categorical(cols):\n"
     ]
    }
   ],
   "source": [
    "encoder = OneHotEncoder(cols=CATEGORICAL_COLUMNS)\n",
    "X_train_processed = encoder.fit_transform(X_train_processed, y_train)\n",
    "X_test_processed = encoder.transform(X_test_processed)"
   ]
  },
  {
   "cell_type": "code",
   "execution_count": 37,
   "metadata": {},
   "outputs": [],
   "source": [
    "def get_simple_dnn_model():\n",
    "    model = Sequential()\n",
    "    model.add(Dense(128, input_dim=X_train_processed.shape[1], activation='relu'))\n",
    "    model.add(Dense(128, input_dim=128, activation='relu'))\n",
    "    model.add(Dense(1, activation='sigmoid'))\n",
    "    model.compile(loss='binary_crossentropy', optimizer='adam', metrics=['accuracy'])\n",
    "    return model"
   ]
  },
  {
   "cell_type": "code",
   "execution_count": 38,
   "metadata": {},
   "outputs": [
    {
     "name": "stdout",
     "output_type": "stream",
     "text": [
      "WARNING:tensorflow:From /anaconda3/lib/python3.6/site-packages/tensorflow/python/framework/op_def_library.py:263: colocate_with (from tensorflow.python.framework.ops) is deprecated and will be removed in a future version.\n",
      "Instructions for updating:\n",
      "Colocations handled automatically by placer.\n",
      "WARNING:tensorflow:From /anaconda3/lib/python3.6/site-packages/tensorflow/python/ops/math_ops.py:3066: to_int32 (from tensorflow.python.ops.math_ops) is deprecated and will be removed in a future version.\n",
      "Instructions for updating:\n",
      "Use tf.cast instead.\n",
      "Epoch 1/5\n",
      "36631/36631 [==============================] - 2s 67us/step - loss: 0.3589 - acc: 0.8269\n",
      "Epoch 2/5\n",
      "36631/36631 [==============================] - 2s 53us/step - loss: 0.3086 - acc: 0.8557\n",
      "Epoch 3/5\n",
      "36631/36631 [==============================] - 2s 53us/step - loss: 0.3052 - acc: 0.8565\n",
      "Epoch 4/5\n",
      "36631/36631 [==============================] - 2s 57us/step - loss: 0.3015 - acc: 0.8593\n",
      "Epoch 5/5\n",
      "36631/36631 [==============================] - 2s 58us/step - loss: 0.2988 - acc: 0.8597\n"
     ]
    },
    {
     "data": {
      "text/plain": [
       "<keras.callbacks.History at 0x152486780>"
      ]
     },
     "execution_count": 38,
     "metadata": {},
     "output_type": "execute_result"
    }
   ],
   "source": [
    "model = KerasClassifier(build_fn=get_simple_dnn_model, epochs=5, batch_size=256, verbose=1)\n",
    "model.fit(X_train_processed, y_train)"
   ]
  },
  {
   "cell_type": "code",
   "execution_count": 39,
   "metadata": {},
   "outputs": [
    {
     "name": "stdout",
     "output_type": "stream",
     "text": [
      "12211/12211 [==============================] - 0s 23us/step\n"
     ]
    }
   ],
   "source": [
    "y_hat = model.predict_proba(X_test_processed)[:, 1]"
   ]
  },
  {
   "cell_type": "code",
   "execution_count": 40,
   "metadata": {},
   "outputs": [
    {
     "data": {
      "text/plain": [
       "0.9129275801034675"
      ]
     },
     "execution_count": 40,
     "metadata": {},
     "output_type": "execute_result"
    }
   ],
   "source": [
    "score = roc_auc_score(y_test, y_hat)\n",
    "score"
   ]
  },
  {
   "cell_type": "code",
   "execution_count": 41,
   "metadata": {},
   "outputs": [],
   "source": [
    "experiment[\"models\"][\"model_5\"] = {\n",
    "    \"c\": \"keras DNN\", \n",
    "    \"X_train_processed\": X_train_processed,\n",
    "    \"X_test_processed\": X_test_processed,\n",
    "    \"model\": model,\n",
    "    \"score\": score \n",
    "}"
   ]
  },
  {
   "cell_type": "markdown",
   "metadata": {},
   "source": [
    "# Results "
   ]
  },
  {
   "cell_type": "code",
   "execution_count": 42,
   "metadata": {},
   "outputs": [
    {
     "name": "stdout",
     "output_type": "stream",
     "text": [
      "Model: model_1, score: 0.9241\n",
      "Model: model_2, score: 0.9238\n",
      "Model: model_3, score: 0.8812\n",
      "Model: model_4, score: 0.6662\n",
      "Model: model_5, score: 0.9129\n"
     ]
    }
   ],
   "source": [
    "for model_name, model_result in experiment[\"models\"].items():\n",
    "    print(f\"Model: {model_name}, score: {model_result['score']:.4f}\")"
   ]
  },
  {
   "cell_type": "code",
   "execution_count": 43,
   "metadata": {},
   "outputs": [
    {
     "name": "stdout",
     "output_type": "stream",
     "text": [
      "{'dataset_info': {'categorical_columns': ['workclass',\n",
      "                                          'education',\n",
      "                                          'marital-status',\n",
      "                                          'occupation',\n",
      "                                          'relationship',\n",
      "                                          'race',\n",
      "                                          'gender',\n",
      "                                          'native-country'],\n",
      "                  'numerical_columns': ['age',\n",
      "                                        'fnlwgt',\n",
      "                                        'educational-num',\n",
      "                                        'capital-gain',\n",
      "                                        'capital-loss',\n",
      "                                        'hours-per-week']},\n",
      " 'models': {'model_1': {'X_test_processed':        age  workclass  fnlwgt  education  educational-num  marital-status  \\\n",
      "44696   38   0.217685  159179   0.158728                9        0.448228   \n",
      "31814   21   0.131722  232719   0.158728                9        0.043828   \n",
      "19694   34   0.217685  340940   0.417547               13        0.448228   \n",
      "33136   21   0.217685  190968   0.158728                9        0.043828   \n",
      "34810   30   0.277745   31510   0.266422               12        0.101541   \n",
      "...    ...        ...     ...        ...              ...             ...   \n",
      "43302   49   0.217685  357540   0.158728                9        0.448228   \n",
      "34369   47   0.217685  111961   0.158728                9        0.448228   \n",
      "37446   46   0.217685  405309   0.158728                9        0.448228   \n",
      "19763   27   0.217685   39665   0.158728                9        0.101541   \n",
      "3954    23   0.217685   60783   0.252767               11        0.448228   \n",
      "\n",
      "       occupation  relationship      race    gender  capital-gain  \\\n",
      "44696    0.226082      0.449935  0.253944  0.304498             0   \n",
      "31814    0.226082      0.015955  0.119103  0.304498             0   \n",
      "19694    0.261063      0.449935  0.253944  0.304498          7298   \n",
      "33136    0.127624      0.015955  0.253944  0.304498             0   \n",
      "34810    0.226082      0.099804  0.253944  0.304498             0   \n",
      "...           ...           ...       ...       ...           ...   \n",
      "43302    0.118707      0.449935  0.253944  0.304498             0   \n",
      "34369    0.040313      0.476848  0.119103  0.108163             0   \n",
      "37446    0.483607      0.449935  0.253944  0.304498             0   \n",
      "19763    0.261063      0.057804  0.253944  0.108163             0   \n",
      "3954     0.226082      0.449935  0.253944  0.304498             0   \n",
      "\n",
      "       capital-loss  hours-per-week  native-country  \n",
      "44696             0              40        0.244192  \n",
      "31814             0              40        0.244192  \n",
      "19694             0              60        0.244192  \n",
      "33136             0              40        0.244192  \n",
      "34810             0              50        0.244192  \n",
      "...             ...             ...             ...  \n",
      "43302             0              25        0.244192  \n",
      "34369             0              30        0.244192  \n",
      "37446             0              40        0.244192  \n",
      "19763             0              37        0.244192  \n",
      "3954              0              40        0.244192  \n",
      "\n",
      "[12211 rows x 14 columns],\n",
      "                        'X_train_processed':        age  workclass  fnlwgt  education  educational-num  marital-status  \\\n",
      "48403   49   0.239278  259323   0.239278                9        0.239278   \n",
      "32075   24   0.119639  148320   0.239278               10        0.239278   \n",
      "17722   61   0.239278  347089   0.119639                9        0.119639   \n",
      "16284   53   0.079759  234721   0.239278                7        0.079759   \n",
      "21413   23   0.059820  185452   0.239278               13        0.239278   \n",
      "...    ...        ...     ...        ...              ...             ...   \n",
      "38827   45   0.217601  102559   0.251790               11        0.448156   \n",
      "2621    36   0.217632   30269   0.187638               10        0.448189   \n",
      "12701   47   0.217663  131160   0.417451               13        0.101360   \n",
      "20602   32   0.217694   80058   0.158741                9        0.448222   \n",
      "26061   49   0.396739  105586   0.252279               11        0.448195   \n",
      "\n",
      "       occupation  relationship      race    gender  capital-gain  \\\n",
      "48403    0.239278      0.239278  0.239278  0.239278             0   \n",
      "32075    0.239278      0.239278  0.239278  0.119639             0   \n",
      "17722    0.239278      0.119639  0.119639  0.079759             0   \n",
      "16284    0.239278      0.079759  0.119639  0.059820             0   \n",
      "21413    0.239278      0.239278  0.079759  0.239278             0   \n",
      "...           ...           ...       ...       ...           ...   \n",
      "38827    0.225746      0.449891  0.253880  0.304454             0   \n",
      "2621     0.039794      0.476547  0.253904  0.108017          7298   \n",
      "12701    0.040054      0.099709  0.253928  0.108090         99999   \n",
      "20602    0.138992      0.449928  0.253952  0.304482             0   \n",
      "26061    0.225914      0.449898  0.271971  0.304470             0   \n",
      "\n",
      "       capital-loss  hours-per-week  native-country  \n",
      "48403             0              40        0.239278  \n",
      "32075             0              40        0.119639  \n",
      "17722             0              16        0.079759  \n",
      "16284             0              40        0.059820  \n",
      "21413             0              35        0.239278  \n",
      "...             ...             ...             ...  \n",
      "38827             0              40        0.310070  \n",
      "2621              0              32        0.244130  \n",
      "12701             0              40        0.244153  \n",
      "20602             0              40        0.244176  \n",
      "26061             0              40        0.244169  \n",
      "\n",
      "[36631 rows x 14 columns],\n",
      "                        'experiment': 'LGB',\n",
      "                        'model': LGBMClassifier(learning_rate=0.03, random_state=42, subsample=0.8),\n",
      "                        'score': 0.9240818020239729},\n",
      "            'model_2': {'X_test_processed':        age  workclass  fnlwgt  education  educational-num  marital-status  \\\n",
      "0       38   0.217685  159179   0.158728                9        0.448228   \n",
      "1       21   0.131722  232719   0.158714                9        0.043828   \n",
      "2       34   0.217676  340940   0.417547               13        0.448202   \n",
      "3       21   0.217707  190968   0.158701                9        0.043824   \n",
      "4       30   0.277745   31510   0.266422               12        0.101541   \n",
      "...    ...        ...     ...        ...              ...             ...   \n",
      "12206   49   0.217900  357540   0.158624                9        0.446203   \n",
      "12207   47   0.217893  111961   0.158614                9        0.446183   \n",
      "12208   46   0.217887  405309   0.158604                9        0.446163   \n",
      "12209   27   0.217881   39665   0.158593                9        0.101197   \n",
      "12210   23   0.217874   60783   0.253391               11        0.446143   \n",
      "\n",
      "       occupation  relationship      race    gender  capital-gain  \\\n",
      "0        0.226082      0.449935  0.253944  0.304498             0   \n",
      "1        0.226033      0.015955  0.119103  0.304486             0   \n",
      "2        0.261063      0.449904  0.253935  0.304473          7298   \n",
      "3        0.127624      0.015952  0.253959  0.304502             0   \n",
      "4        0.225984      0.099804  0.253951  0.304489             0   \n",
      "...           ...           ...       ...       ...           ...   \n",
      "12206    0.116268      0.448729  0.254011  0.303793             0   \n",
      "12207    0.041487      0.469000  0.120862  0.109273             0   \n",
      "12208    0.477857      0.448706  0.254005  0.303784             0   \n",
      "12209    0.268030      0.060339  0.253999  0.109266             0   \n",
      "12210    0.226315      0.448683  0.253993  0.303775             0   \n",
      "\n",
      "       capital-loss  hours-per-week  native-country  \n",
      "0                 0              40        0.244192  \n",
      "1                 0              40        0.244184  \n",
      "2                 0              60        0.244177  \n",
      "3                 0              40        0.244200  \n",
      "4                 0              50        0.244192  \n",
      "...             ...             ...             ...  \n",
      "12206             0              25        0.244005  \n",
      "12207             0              30        0.243999  \n",
      "12208             0              40        0.243994  \n",
      "12209             0              37        0.243988  \n",
      "12210             0              40        0.243982  \n",
      "\n",
      "[12211 rows x 14 columns],\n",
      "                        'X_train_processed':        age  workclass  fnlwgt  education  educational-num  marital-status  \\\n",
      "0       49   0.239282  259323   0.239282                9        0.239282   \n",
      "1       24   0.119641  148320   0.239282               10        0.239282   \n",
      "2       61   0.239282  347089   0.119641                9        0.119641   \n",
      "3       53   0.079761  234721   0.239282                7        0.079761   \n",
      "4       23   0.059820  185452   0.239282               13        0.239282   \n",
      "...    ...        ...     ...        ...              ...             ...   \n",
      "36626   45   0.217601  102559   0.251790               11        0.448156   \n",
      "36627   36   0.217632   30269   0.187638               10        0.448189   \n",
      "36628   47   0.217663  131160   0.417451               13        0.101360   \n",
      "36629   32   0.217694   80058   0.158741                9        0.448222   \n",
      "36630   49   0.396739  105586   0.252279               11        0.448195   \n",
      "\n",
      "       occupation  relationship      race    gender  capital-gain  \\\n",
      "0        0.239282      0.239282  0.239282  0.239282             0   \n",
      "1        0.239282      0.239282  0.239282  0.119641             0   \n",
      "2        0.239282      0.119641  0.119641  0.079761             0   \n",
      "3        0.239282      0.079761  0.119641  0.059820             0   \n",
      "4        0.239282      0.239282  0.079761  0.239282             0   \n",
      "...           ...           ...       ...       ...           ...   \n",
      "36626    0.225746      0.449891  0.253880  0.304454             0   \n",
      "36627    0.039794      0.476547  0.253904  0.108017          7298   \n",
      "36628    0.040054      0.099709  0.253928  0.108090         99999   \n",
      "36629    0.138992      0.449928  0.253952  0.304482             0   \n",
      "36630    0.225914      0.449898  0.271971  0.304470             0   \n",
      "\n",
      "       capital-loss  hours-per-week  native-country  \n",
      "0                 0              40        0.239282  \n",
      "1                 0              40        0.119641  \n",
      "2                 0              16        0.079761  \n",
      "3                 0              40        0.059820  \n",
      "4                 0              35        0.239282  \n",
      "...             ...             ...             ...  \n",
      "36626             0              40        0.310070  \n",
      "36627             0              32        0.244130  \n",
      "36628             0              40        0.244153  \n",
      "36629             0              40        0.244176  \n",
      "36630             0              40        0.244169  \n",
      "\n",
      "[36631 rows x 14 columns],\n",
      "                        'experiment': 'buggy LGB',\n",
      "                        'model': LGBMClassifier(learning_rate=0.03, random_state=42, subsample=0.8),\n",
      "                        'score': 0.9237535524601345},\n",
      "            'model_3': {'X_test_processed':             age  workclass_1  workclass_2  workclass_3  workclass_4  \\\n",
      "44696 -0.051280            1            0            0            0   \n",
      "31814 -1.289015            0            0            0            0   \n",
      "19694 -0.342512            1            0            0            0   \n",
      "33136 -1.289015            1            0            0            0   \n",
      "34810 -0.633744            0            0            0            1   \n",
      "...         ...          ...          ...          ...          ...   \n",
      "43302  0.749607            1            0            0            0   \n",
      "34369  0.603991            1            0            0            0   \n",
      "37446  0.531183            1            0            0            0   \n",
      "19763 -0.852168            1            0            0            0   \n",
      "3954  -1.143399            1            0            0            0   \n",
      "\n",
      "       workclass_5  workclass_6  workclass_7  workclass_8  workclass_9  ...  \\\n",
      "44696            0            0            0            0            0  ...   \n",
      "31814            0            0            0            1            0  ...   \n",
      "19694            0            0            0            0            0  ...   \n",
      "33136            0            0            0            0            0  ...   \n",
      "34810            0            0            0            0            0  ...   \n",
      "...            ...          ...          ...          ...          ...  ...   \n",
      "43302            0            0            0            0            0  ...   \n",
      "34369            0            0            0            0            0  ...   \n",
      "37446            0            0            0            0            0  ...   \n",
      "19763            0            0            0            0            0  ...   \n",
      "3954             0            0            0            0            0  ...   \n",
      "\n",
      "       native-country_33  native-country_34  native-country_35  \\\n",
      "44696                  0                  0                  0   \n",
      "31814                  0                  0                  0   \n",
      "19694                  0                  0                  0   \n",
      "33136                  0                  0                  0   \n",
      "34810                  0                  0                  0   \n",
      "...                  ...                ...                ...   \n",
      "43302                  0                  0                  0   \n",
      "34369                  0                  0                  0   \n",
      "37446                  0                  0                  0   \n",
      "19763                  0                  0                  0   \n",
      "3954                   0                  0                  0   \n",
      "\n",
      "       native-country_36  native-country_37  native-country_38  \\\n",
      "44696                  0                  0                  0   \n",
      "31814                  0                  0                  0   \n",
      "19694                  0                  0                  0   \n",
      "33136                  0                  0                  0   \n",
      "34810                  0                  0                  0   \n",
      "...                  ...                ...                ...   \n",
      "43302                  0                  0                  0   \n",
      "34369                  0                  0                  0   \n",
      "37446                  0                  0                  0   \n",
      "19763                  0                  0                  0   \n",
      "3954                   0                  0                  0   \n",
      "\n",
      "       native-country_39  native-country_40  native-country_41  \\\n",
      "44696                  0                  0                  0   \n",
      "31814                  0                  0                  0   \n",
      "19694                  0                  0                  0   \n",
      "33136                  0                  0                  0   \n",
      "34810                  0                  0                  0   \n",
      "...                  ...                ...                ...   \n",
      "43302                  0                  0                  0   \n",
      "34369                  0                  0                  0   \n",
      "37446                  0                  0                  0   \n",
      "19763                  0                  0                  0   \n",
      "3954                   0                  0                  0   \n",
      "\n",
      "       native-country_42  \n",
      "44696                  0  \n",
      "31814                  0  \n",
      "19694                  0  \n",
      "33136                  0  \n",
      "34810                  0  \n",
      "...                  ...  \n",
      "43302                  0  \n",
      "34369                  0  \n",
      "37446                  0  \n",
      "19763                  0  \n",
      "3954                   0  \n",
      "\n",
      "[12211 rows x 108 columns],\n",
      "                        'X_train_processed':             age  workclass_1  workclass_2  workclass_3  workclass_4  \\\n",
      "48403  0.749607            1            0            0            0   \n",
      "32075 -1.070592            1            0            0            0   \n",
      "17722  1.623303            0            1            0            0   \n",
      "16284  1.040839            1            0            0            0   \n",
      "21413 -1.143399            1            0            0            0   \n",
      "...         ...          ...          ...          ...          ...   \n",
      "38827  0.458375            1            0            0            0   \n",
      "2621  -0.196896            1            0            0            0   \n",
      "12701  0.603991            1            0            0            0   \n",
      "20602 -0.488128            1            0            0            0   \n",
      "26061  0.749607            0            0            1            0   \n",
      "\n",
      "       workclass_5  workclass_6  workclass_7  workclass_8  workclass_9  ...  \\\n",
      "48403            0            0            0            0            0  ...   \n",
      "32075            0            0            0            0            0  ...   \n",
      "17722            0            0            0            0            0  ...   \n",
      "16284            0            0            0            0            0  ...   \n",
      "21413            0            0            0            0            0  ...   \n",
      "...            ...          ...          ...          ...          ...  ...   \n",
      "38827            0            0            0            0            0  ...   \n",
      "2621             0            0            0            0            0  ...   \n",
      "12701            0            0            0            0            0  ...   \n",
      "20602            0            0            0            0            0  ...   \n",
      "26061            0            0            0            0            0  ...   \n",
      "\n",
      "       native-country_33  native-country_34  native-country_35  \\\n",
      "48403                  0                  0                  0   \n",
      "32075                  0                  0                  0   \n",
      "17722                  0                  0                  0   \n",
      "16284                  0                  0                  0   \n",
      "21413                  0                  0                  0   \n",
      "...                  ...                ...                ...   \n",
      "38827                  0                  0                  0   \n",
      "2621                   0                  0                  0   \n",
      "12701                  0                  0                  0   \n",
      "20602                  0                  0                  0   \n",
      "26061                  0                  0                  0   \n",
      "\n",
      "       native-country_36  native-country_37  native-country_38  \\\n",
      "48403                  0                  0                  0   \n",
      "32075                  0                  0                  0   \n",
      "17722                  0                  0                  0   \n",
      "16284                  0                  0                  0   \n",
      "21413                  0                  0                  0   \n",
      "...                  ...                ...                ...   \n",
      "38827                  0                  0                  0   \n",
      "2621                   0                  0                  0   \n",
      "12701                  0                  0                  0   \n",
      "20602                  0                  0                  0   \n",
      "26061                  0                  0                  0   \n",
      "\n",
      "       native-country_39  native-country_40  native-country_41  \\\n",
      "48403                  0                  0                  0   \n",
      "32075                  0                  0                  0   \n",
      "17722                  0                  0                  0   \n",
      "16284                  0                  0                  0   \n",
      "21413                  0                  0                  0   \n",
      "...                  ...                ...                ...   \n",
      "38827                  0                  0                  0   \n",
      "2621                   0                  0                  0   \n",
      "12701                  0                  0                  0   \n",
      "20602                  0                  0                  0   \n",
      "26061                  0                  0                  0   \n",
      "\n",
      "       native-country_42  \n",
      "48403                  0  \n",
      "32075                  0  \n",
      "17722                  0  \n",
      "16284                  0  \n",
      "21413                  0  \n",
      "...                  ...  \n",
      "38827                  0  \n",
      "2621                   0  \n",
      "12701                  0  \n",
      "20602                  0  \n",
      "26061                  0  \n",
      "\n",
      "[36631 rows x 108 columns],\n",
      "                        'experiment': 'KNN',\n",
      "                        'model': KNeighborsClassifier(n_neighbors=11),\n",
      "                        'score': 0.8812110900199236},\n",
      "            'model_4': {'experiment': 'buggy KNN',\n",
      "                        'model': KNeighborsClassifier(n_neighbors=11),\n",
      "                        'score': 0.6662278154764024},\n",
      "            'model_5': {'X_test_processed':             age  workclass_1  workclass_2  workclass_3  workclass_4  \\\n",
      "44696 -0.051280            1            0            0            0   \n",
      "31814 -1.289015            0            0            0            0   \n",
      "19694 -0.342512            1            0            0            0   \n",
      "33136 -1.289015            1            0            0            0   \n",
      "34810 -0.633744            0            0            0            1   \n",
      "...         ...          ...          ...          ...          ...   \n",
      "43302  0.749607            1            0            0            0   \n",
      "34369  0.603991            1            0            0            0   \n",
      "37446  0.531183            1            0            0            0   \n",
      "19763 -0.852168            1            0            0            0   \n",
      "3954  -1.143399            1            0            0            0   \n",
      "\n",
      "       workclass_5  workclass_6  workclass_7  workclass_8  workclass_9  ...  \\\n",
      "44696            0            0            0            0            0  ...   \n",
      "31814            0            0            0            1            0  ...   \n",
      "19694            0            0            0            0            0  ...   \n",
      "33136            0            0            0            0            0  ...   \n",
      "34810            0            0            0            0            0  ...   \n",
      "...            ...          ...          ...          ...          ...  ...   \n",
      "43302            0            0            0            0            0  ...   \n",
      "34369            0            0            0            0            0  ...   \n",
      "37446            0            0            0            0            0  ...   \n",
      "19763            0            0            0            0            0  ...   \n",
      "3954             0            0            0            0            0  ...   \n",
      "\n",
      "       native-country_33  native-country_34  native-country_35  \\\n",
      "44696                  0                  0                  0   \n",
      "31814                  0                  0                  0   \n",
      "19694                  0                  0                  0   \n",
      "33136                  0                  0                  0   \n",
      "34810                  0                  0                  0   \n",
      "...                  ...                ...                ...   \n",
      "43302                  0                  0                  0   \n",
      "34369                  0                  0                  0   \n",
      "37446                  0                  0                  0   \n",
      "19763                  0                  0                  0   \n",
      "3954                   0                  0                  0   \n",
      "\n",
      "       native-country_36  native-country_37  native-country_38  \\\n",
      "44696                  0                  0                  0   \n",
      "31814                  0                  0                  0   \n",
      "19694                  0                  0                  0   \n",
      "33136                  0                  0                  0   \n",
      "34810                  0                  0                  0   \n",
      "...                  ...                ...                ...   \n",
      "43302                  0                  0                  0   \n",
      "34369                  0                  0                  0   \n",
      "37446                  0                  0                  0   \n",
      "19763                  0                  0                  0   \n",
      "3954                   0                  0                  0   \n",
      "\n",
      "       native-country_39  native-country_40  native-country_41  \\\n",
      "44696                  0                  0                  0   \n",
      "31814                  0                  0                  0   \n",
      "19694                  0                  0                  0   \n",
      "33136                  0                  0                  0   \n",
      "34810                  0                  0                  0   \n",
      "...                  ...                ...                ...   \n",
      "43302                  0                  0                  0   \n",
      "34369                  0                  0                  0   \n",
      "37446                  0                  0                  0   \n",
      "19763                  0                  0                  0   \n",
      "3954                   0                  0                  0   \n",
      "\n",
      "       native-country_42  \n",
      "44696                  0  \n",
      "31814                  0  \n",
      "19694                  0  \n",
      "33136                  0  \n",
      "34810                  0  \n",
      "...                  ...  \n",
      "43302                  0  \n",
      "34369                  0  \n",
      "37446                  0  \n",
      "19763                  0  \n",
      "3954                   0  \n",
      "\n",
      "[12211 rows x 108 columns],\n",
      "                        'X_train_processed':             age  workclass_1  workclass_2  workclass_3  workclass_4  \\\n",
      "48403  0.749607            1            0            0            0   \n",
      "32075 -1.070592            1            0            0            0   \n",
      "17722  1.623303            0            1            0            0   \n",
      "16284  1.040839            1            0            0            0   \n",
      "21413 -1.143399            1            0            0            0   \n",
      "...         ...          ...          ...          ...          ...   \n",
      "38827  0.458375            1            0            0            0   \n",
      "2621  -0.196896            1            0            0            0   \n",
      "12701  0.603991            1            0            0            0   \n",
      "20602 -0.488128            1            0            0            0   \n",
      "26061  0.749607            0            0            1            0   \n",
      "\n",
      "       workclass_5  workclass_6  workclass_7  workclass_8  workclass_9  ...  \\\n",
      "48403            0            0            0            0            0  ...   \n",
      "32075            0            0            0            0            0  ...   \n",
      "17722            0            0            0            0            0  ...   \n",
      "16284            0            0            0            0            0  ...   \n",
      "21413            0            0            0            0            0  ...   \n",
      "...            ...          ...          ...          ...          ...  ...   \n",
      "38827            0            0            0            0            0  ...   \n",
      "2621             0            0            0            0            0  ...   \n",
      "12701            0            0            0            0            0  ...   \n",
      "20602            0            0            0            0            0  ...   \n",
      "26061            0            0            0            0            0  ...   \n",
      "\n",
      "       native-country_33  native-country_34  native-country_35  \\\n",
      "48403                  0                  0                  0   \n",
      "32075                  0                  0                  0   \n",
      "17722                  0                  0                  0   \n",
      "16284                  0                  0                  0   \n",
      "21413                  0                  0                  0   \n",
      "...                  ...                ...                ...   \n",
      "38827                  0                  0                  0   \n",
      "2621                   0                  0                  0   \n",
      "12701                  0                  0                  0   \n",
      "20602                  0                  0                  0   \n",
      "26061                  0                  0                  0   \n",
      "\n",
      "       native-country_36  native-country_37  native-country_38  \\\n",
      "48403                  0                  0                  0   \n",
      "32075                  0                  0                  0   \n",
      "17722                  0                  0                  0   \n",
      "16284                  0                  0                  0   \n",
      "21413                  0                  0                  0   \n",
      "...                  ...                ...                ...   \n",
      "38827                  0                  0                  0   \n",
      "2621                   0                  0                  0   \n",
      "12701                  0                  0                  0   \n",
      "20602                  0                  0                  0   \n",
      "26061                  0                  0                  0   \n",
      "\n",
      "       native-country_39  native-country_40  native-country_41  \\\n",
      "48403                  0                  0                  0   \n",
      "32075                  0                  0                  0   \n",
      "17722                  0                  0                  0   \n",
      "16284                  0                  0                  0   \n",
      "21413                  0                  0                  0   \n",
      "...                  ...                ...                ...   \n",
      "38827                  0                  0                  0   \n",
      "2621                   0                  0                  0   \n",
      "12701                  0                  0                  0   \n",
      "20602                  0                  0                  0   \n",
      "26061                  0                  0                  0   \n",
      "\n",
      "       native-country_42  \n",
      "48403                  0  \n",
      "32075                  0  \n",
      "17722                  0  \n",
      "16284                  0  \n",
      "21413                  0  \n",
      "...                  ...  \n",
      "38827                  0  \n",
      "2621                   0  \n",
      "12701                  0  \n",
      "20602                  0  \n",
      "26061                  0  \n",
      "\n",
      "[36631 rows x 108 columns],\n",
      "                        'c': 'keras DNN',\n",
      "                        'model': <keras.wrappers.scikit_learn.KerasClassifier object at 0x1506a7240>,\n",
      "                        'score': 0.9129275801034675}},\n",
      " 'test_data_raw':        age         workclass  fnlwgt   education  educational-num  \\\n",
      "44696   38           Private  159179     HS-grad                9   \n",
      "31814   21       Without-pay  232719     HS-grad                9   \n",
      "19694   34           Private  340940   Bachelors               13   \n",
      "33136   21           Private  190968     HS-grad                9   \n",
      "34810   30  Self-emp-not-inc   31510  Assoc-acdm               12   \n",
      "...    ...               ...     ...         ...              ...   \n",
      "43302   49           Private  357540     HS-grad                9   \n",
      "34369   47           Private  111961     HS-grad                9   \n",
      "37446   46           Private  405309     HS-grad                9   \n",
      "19763   27           Private   39665     HS-grad                9   \n",
      "3954    23           Private   60783   Assoc-voc               11   \n",
      "\n",
      "           marital-status         occupation   relationship   race  gender  \\\n",
      "44696  Married-civ-spouse       Craft-repair        Husband  White    Male   \n",
      "31814       Never-married       Craft-repair      Own-child  Black    Male   \n",
      "19694  Married-civ-spouse              Sales        Husband  White    Male   \n",
      "33136       Never-married  Machine-op-inspct      Own-child  White    Male   \n",
      "34810            Divorced       Craft-repair  Not-in-family  White    Male   \n",
      "...                   ...                ...            ...    ...     ...   \n",
      "43302  Married-civ-spouse    Farming-fishing        Husband  White    Male   \n",
      "34369  Married-civ-spouse      Other-service           Wife  Black  Female   \n",
      "37446  Married-civ-spouse    Exec-managerial        Husband  White    Male   \n",
      "19763            Divorced              Sales      Unmarried  White  Female   \n",
      "3954   Married-civ-spouse       Craft-repair        Husband  White    Male   \n",
      "\n",
      "       capital-gain  capital-loss  hours-per-week native-country  \n",
      "44696             0             0              40  United-States  \n",
      "31814             0             0              40  United-States  \n",
      "19694          7298             0              60  United-States  \n",
      "33136             0             0              40  United-States  \n",
      "34810             0             0              50  United-States  \n",
      "...             ...           ...             ...            ...  \n",
      "43302             0             0              25  United-States  \n",
      "34369             0             0              30  United-States  \n",
      "37446             0             0              40  United-States  \n",
      "19763             0             0              37  United-States  \n",
      "3954              0             0              40  United-States  \n",
      "\n",
      "[12211 rows x 14 columns],\n",
      " 'test_target': 44696    False\n",
      "31814    False\n",
      "19694     True\n",
      "33136    False\n",
      "34810    False\n",
      "         ...  \n",
      "43302    False\n",
      "34369    False\n",
      "37446    False\n",
      "19763    False\n",
      "3954     False\n",
      "Name: income, Length: 12211, dtype: bool,\n",
      " 'train_data_raw':        age    workclass  fnlwgt     education  educational-num  \\\n",
      "48403   49      Private  259323       HS-grad                9   \n",
      "32075   24      Private  148320  Some-college               10   \n",
      "17722   61            ?  347089       HS-grad                9   \n",
      "16284   53      Private  234721          11th                7   \n",
      "21413   23      Private  185452     Bachelors               13   \n",
      "...    ...          ...     ...           ...              ...   \n",
      "38827   45      Private  102559     Assoc-voc               11   \n",
      "2621    36      Private   30269  Some-college               10   \n",
      "12701   47      Private  131160     Bachelors               13   \n",
      "20602   32      Private   80058       HS-grad                9   \n",
      "26061   49  Federal-gov  105586     Assoc-voc               11   \n",
      "\n",
      "           marital-status         occupation   relationship  \\\n",
      "48403            Divorced       Craft-repair      Unmarried   \n",
      "32075  Married-civ-spouse       Adm-clerical        Husband   \n",
      "17722  Married-civ-spouse                  ?        Husband   \n",
      "16284  Married-civ-spouse  Handlers-cleaners        Husband   \n",
      "21413       Never-married    Exec-managerial  Not-in-family   \n",
      "...                   ...                ...            ...   \n",
      "38827  Married-civ-spouse       Craft-repair        Husband   \n",
      "2621   Married-civ-spouse      Other-service           Wife   \n",
      "12701            Divorced      Other-service  Not-in-family   \n",
      "20602  Married-civ-spouse       Adm-clerical        Husband   \n",
      "26061  Married-civ-spouse       Craft-repair        Husband   \n",
      "\n",
      "                     race  gender  capital-gain  capital-loss  hours-per-week  \\\n",
      "48403               White    Male             0             0              40   \n",
      "32075               Black    Male             0             0              40   \n",
      "17722               White    Male             0             0              16   \n",
      "16284               Black    Male             0             0              40   \n",
      "21413               White  Female             0             0              35   \n",
      "...                   ...     ...           ...           ...             ...   \n",
      "38827               White    Male             0             0              40   \n",
      "2621                White  Female          7298             0              32   \n",
      "12701               White  Female         99999             0              40   \n",
      "20602               White    Male             0             0              40   \n",
      "26061  Asian-Pac-Islander    Male             0             0              40   \n",
      "\n",
      "      native-country  \n",
      "48403  United-States  \n",
      "32075  United-States  \n",
      "17722  United-States  \n",
      "16284  United-States  \n",
      "21413         Canada  \n",
      "...              ...  \n",
      "38827         Canada  \n",
      "2621   United-States  \n",
      "12701  United-States  \n",
      "20602  United-States  \n",
      "26061  United-States  \n",
      "\n",
      "[36631 rows x 14 columns],\n",
      " 'train_target': 48403    False\n",
      "32075    False\n",
      "17722    False\n",
      "16284    False\n",
      "21413    False\n",
      "         ...  \n",
      "38827     True\n",
      "2621      True\n",
      "12701     True\n",
      "20602    False\n",
      "26061     True\n",
      "Name: income, Length: 36631, dtype: bool}\n"
     ]
    }
   ],
   "source": [
    "pprint(experiment)"
   ]
  },
  {
   "cell_type": "code",
   "execution_count": null,
   "metadata": {},
   "outputs": [],
   "source": []
  }
 ],
 "metadata": {
  "kernelspec": {
   "display_name": "Python 3",
   "language": "python",
   "name": "python3"
  },
  "language_info": {
   "codemirror_mode": {
    "name": "ipython",
    "version": 3
   },
   "file_extension": ".py",
   "mimetype": "text/x-python",
   "name": "python",
   "nbconvert_exporter": "python",
   "pygments_lexer": "ipython3",
   "version": "3.6.6"
  }
 },
 "nbformat": 4,
 "nbformat_minor": 2
}
